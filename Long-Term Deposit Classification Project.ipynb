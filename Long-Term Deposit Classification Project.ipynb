{
 "cells": [
  {
   "cell_type": "markdown",
   "metadata": {},
   "source": [
    "# Practical Application III: Comparing Classifiers\n",
    "\n",
    "**Overview**: In this practical application, your goal is to compare the performance of the classifiers we encountered in this section, namely K Nearest Neighbor, Logistic Regression, Decision Trees, and Support Vector Machines.  We will utilize a dataset related to marketing bank products over the telephone.  \n",
    "\n"
   ]
  },
  {
   "cell_type": "markdown",
   "metadata": {},
   "source": [
    "### Getting Started\n",
    "\n",
    "Our dataset comes from the UCI Machine Learning repository [link](https://archive.ics.uci.edu/ml/datasets/bank+marketing).  The data is from a Portugese banking institution and is a collection of the results of multiple marketing campaigns.  We will make use of the article accompanying the dataset [here](CRISP-DM-BANK.pdf) for more information on the data and features.\n",
    "\n"
   ]
  },
  {
   "cell_type": "markdown",
   "metadata": {},
   "source": [
    "### Problem 1: Understanding the Data\n",
    "\n",
    "To gain a better understanding of the data, please read the information provided in the UCI link above, and examine the **Materials and Methods** section of the paper.  How many marketing campaigns does this data represent?"
   ]
  },
  {
   "cell_type": "markdown",
   "metadata": {},
   "source": [
    "- 17 campaigns\n",
    "- Offer long-term deposit with special, beneficial interest rate because of decreasing solvency during recession\n",
    "- Customers can be contacted by more than one campaign"
   ]
  },
  {
   "cell_type": "markdown",
   "metadata": {},
   "source": [
    "### Problem 2: Read in the Data\n",
    "\n",
    "Use pandas to read in the dataset `bank-additional-full.csv` and assign to a meaningful variable name."
   ]
  },
  {
   "cell_type": "code",
   "execution_count": 135,
   "metadata": {},
   "outputs": [],
   "source": [
    "# Import necessary libraries\n",
    "import pandas as pd\n",
    "import plotly.express as px\n",
    "import matplotlib.pyplot as plt\n",
    "import numpy as np\n",
    "import seaborn as sns\n",
    "import time\n",
    "from sklearn.compose import ColumnTransformer\n",
    "from category_encoders import MEstimateEncoder\n",
    "from sklearn.preprocessing import OneHotEncoder, StandardScaler\n",
    "from sklearn.linear_model import LogisticRegression\n",
    "from sklearn.dummy import DummyClassifier\n",
    "from sklearn.metrics import f1_score\n",
    "from sklearn.svm import SVC\n",
    "from sklearn.model_selection import train_test_split, GridSearchCV\n",
    "from sklearn.pipeline import Pipeline\n",
    "from sklearn.tree import DecisionTreeClassifier\n",
    "from sklearn.neighbors import KNeighborsClassifier\n",
    "from sklearn.inspection import permutation_importance\n",
    "import warnings\n",
    "warnings.simplefilter(action='ignore')\n"
   ]
  },
  {
   "cell_type": "code",
   "execution_count": 136,
   "metadata": {},
   "outputs": [
    {
     "name": "stdout",
     "output_type": "stream",
     "text": [
      "<class 'pandas.core.frame.DataFrame'>\n",
      "RangeIndex: 41188 entries, 0 to 41187\n",
      "Data columns (total 21 columns):\n",
      " #   Column          Non-Null Count  Dtype  \n",
      "---  ------          --------------  -----  \n",
      " 0   age             41188 non-null  int64  \n",
      " 1   job             41188 non-null  object \n",
      " 2   marital         41188 non-null  object \n",
      " 3   education       41188 non-null  object \n",
      " 4   default         41188 non-null  object \n",
      " 5   housing         41188 non-null  object \n",
      " 6   loan            41188 non-null  object \n",
      " 7   contact         41188 non-null  object \n",
      " 8   month           41188 non-null  object \n",
      " 9   day_of_week     41188 non-null  object \n",
      " 10  duration        41188 non-null  int64  \n",
      " 11  campaign        41188 non-null  int64  \n",
      " 12  pdays           41188 non-null  int64  \n",
      " 13  previous        41188 non-null  int64  \n",
      " 14  poutcome        41188 non-null  object \n",
      " 15  emp.var.rate    41188 non-null  float64\n",
      " 16  cons.price.idx  41188 non-null  float64\n",
      " 17  cons.conf.idx   41188 non-null  float64\n",
      " 18  euribor3m       41188 non-null  float64\n",
      " 19  nr.employed     41188 non-null  float64\n",
      " 20  y               41188 non-null  object \n",
      "dtypes: float64(5), int64(5), object(11)\n",
      "memory usage: 6.6+ MB\n"
     ]
    }
   ],
   "source": [
    "# Import the dataset\n",
    "df = pd.read_csv('data/bank-additional-full.csv', sep = ';')\n",
    "df.info()"
   ]
  },
  {
   "cell_type": "code",
   "execution_count": 137,
   "metadata": {},
   "outputs": [
    {
     "name": "stdout",
     "output_type": "stream",
     "text": [
      "<class 'pandas.core.frame.DataFrame'>\n",
      "RangeIndex: 41188 entries, 0 to 41187\n",
      "Data columns (total 21 columns):\n",
      " #   Column          Non-Null Count  Dtype  \n",
      "---  ------          --------------  -----  \n",
      " 0   age             41188 non-null  int64  \n",
      " 1   job             41188 non-null  object \n",
      " 2   marital         41188 non-null  object \n",
      " 3   education       41188 non-null  object \n",
      " 4   default         41188 non-null  object \n",
      " 5   housing         41188 non-null  object \n",
      " 6   loan            41188 non-null  object \n",
      " 7   contact         41188 non-null  object \n",
      " 8   month           41188 non-null  object \n",
      " 9   day_of_week     41188 non-null  object \n",
      " 10  duration        41188 non-null  int64  \n",
      " 11  campaign        41188 non-null  int64  \n",
      " 12  pdays           41188 non-null  int64  \n",
      " 13  previous        41188 non-null  int64  \n",
      " 14  poutcome        41188 non-null  object \n",
      " 15  emp.var.rate    41188 non-null  float64\n",
      " 16  cons.price.idx  41188 non-null  float64\n",
      " 17  cons.conf.idx   41188 non-null  float64\n",
      " 18  euribor3m       41188 non-null  float64\n",
      " 19  nr.employed     41188 non-null  float64\n",
      " 20  y               41188 non-null  object \n",
      "dtypes: float64(5), int64(5), object(11)\n",
      "memory usage: 6.6+ MB\n"
     ]
    }
   ],
   "source": [
    "# Check for duplicates\n",
    "df.drop_duplicates()\n",
    "df.info()"
   ]
  },
  {
   "cell_type": "code",
   "execution_count": 138,
   "metadata": {},
   "outputs": [
    {
     "name": "stdout",
     "output_type": "stream",
     "text": [
      "21\n"
     ]
    },
    {
     "data": {
      "text/html": [
       "<div>\n",
       "<style scoped>\n",
       "    .dataframe tbody tr th:only-of-type {\n",
       "        vertical-align: middle;\n",
       "    }\n",
       "\n",
       "    .dataframe tbody tr th {\n",
       "        vertical-align: top;\n",
       "    }\n",
       "\n",
       "    .dataframe thead th {\n",
       "        text-align: right;\n",
       "    }\n",
       "</style>\n",
       "<table border=\"1\" class=\"dataframe\">\n",
       "  <thead>\n",
       "    <tr style=\"text-align: right;\">\n",
       "      <th></th>\n",
       "      <th>unique_counts</th>\n",
       "      <th>data_type</th>\n",
       "    </tr>\n",
       "  </thead>\n",
       "  <tbody>\n",
       "    <tr>\n",
       "      <th>age</th>\n",
       "      <td>78</td>\n",
       "      <td>int64</td>\n",
       "    </tr>\n",
       "    <tr>\n",
       "      <th>job</th>\n",
       "      <td>12</td>\n",
       "      <td>object</td>\n",
       "    </tr>\n",
       "    <tr>\n",
       "      <th>marital</th>\n",
       "      <td>4</td>\n",
       "      <td>object</td>\n",
       "    </tr>\n",
       "    <tr>\n",
       "      <th>education</th>\n",
       "      <td>8</td>\n",
       "      <td>object</td>\n",
       "    </tr>\n",
       "    <tr>\n",
       "      <th>default</th>\n",
       "      <td>3</td>\n",
       "      <td>object</td>\n",
       "    </tr>\n",
       "    <tr>\n",
       "      <th>housing</th>\n",
       "      <td>3</td>\n",
       "      <td>object</td>\n",
       "    </tr>\n",
       "    <tr>\n",
       "      <th>loan</th>\n",
       "      <td>3</td>\n",
       "      <td>object</td>\n",
       "    </tr>\n",
       "    <tr>\n",
       "      <th>contact</th>\n",
       "      <td>2</td>\n",
       "      <td>object</td>\n",
       "    </tr>\n",
       "    <tr>\n",
       "      <th>month</th>\n",
       "      <td>10</td>\n",
       "      <td>object</td>\n",
       "    </tr>\n",
       "    <tr>\n",
       "      <th>day_of_week</th>\n",
       "      <td>5</td>\n",
       "      <td>object</td>\n",
       "    </tr>\n",
       "    <tr>\n",
       "      <th>duration</th>\n",
       "      <td>1544</td>\n",
       "      <td>int64</td>\n",
       "    </tr>\n",
       "    <tr>\n",
       "      <th>campaign</th>\n",
       "      <td>42</td>\n",
       "      <td>int64</td>\n",
       "    </tr>\n",
       "    <tr>\n",
       "      <th>pdays</th>\n",
       "      <td>27</td>\n",
       "      <td>int64</td>\n",
       "    </tr>\n",
       "    <tr>\n",
       "      <th>previous</th>\n",
       "      <td>8</td>\n",
       "      <td>int64</td>\n",
       "    </tr>\n",
       "    <tr>\n",
       "      <th>poutcome</th>\n",
       "      <td>3</td>\n",
       "      <td>object</td>\n",
       "    </tr>\n",
       "    <tr>\n",
       "      <th>emp.var.rate</th>\n",
       "      <td>10</td>\n",
       "      <td>float64</td>\n",
       "    </tr>\n",
       "    <tr>\n",
       "      <th>cons.price.idx</th>\n",
       "      <td>26</td>\n",
       "      <td>float64</td>\n",
       "    </tr>\n",
       "    <tr>\n",
       "      <th>cons.conf.idx</th>\n",
       "      <td>26</td>\n",
       "      <td>float64</td>\n",
       "    </tr>\n",
       "    <tr>\n",
       "      <th>euribor3m</th>\n",
       "      <td>316</td>\n",
       "      <td>float64</td>\n",
       "    </tr>\n",
       "    <tr>\n",
       "      <th>nr.employed</th>\n",
       "      <td>11</td>\n",
       "      <td>float64</td>\n",
       "    </tr>\n",
       "    <tr>\n",
       "      <th>y</th>\n",
       "      <td>2</td>\n",
       "      <td>object</td>\n",
       "    </tr>\n",
       "  </tbody>\n",
       "</table>\n",
       "</div>"
      ],
      "text/plain": [
       "                unique_counts data_type\n",
       "age                        78     int64\n",
       "job                        12    object\n",
       "marital                     4    object\n",
       "education                   8    object\n",
       "default                     3    object\n",
       "housing                     3    object\n",
       "loan                        3    object\n",
       "contact                     2    object\n",
       "month                      10    object\n",
       "day_of_week                 5    object\n",
       "duration                 1544     int64\n",
       "campaign                   42     int64\n",
       "pdays                      27     int64\n",
       "previous                    8     int64\n",
       "poutcome                    3    object\n",
       "emp.var.rate               10   float64\n",
       "cons.price.idx             26   float64\n",
       "cons.conf.idx              26   float64\n",
       "euribor3m                 316   float64\n",
       "nr.employed                11   float64\n",
       "y                           2    object"
      ]
     },
     "execution_count": 138,
     "metadata": {},
     "output_type": "execute_result"
    }
   ],
   "source": [
    "# Check unique values \n",
    "unique_values_list = []\n",
    "uniq_cnt = []\n",
    "data_list = []\n",
    "col_list = []\n",
    "cntr = 1\n",
    "for i in df.columns:\n",
    "    unique_values_list.append({i: df[i].unique()})\n",
    "    uniq_cnt.append(len(df[i].unique()))\n",
    "    col_list.append(i)\n",
    "    data_list.append(df[i].dtype)\n",
    "    cntr += 1\n",
    "\n",
    "# Build table of information regarding the unique values\n",
    "print(len(uniq_cnt))\n",
    "unique_df = pd.DataFrame(data=uniq_cnt, index=col_list, columns={0: 'unique_count'})\n",
    "unique_df.rename({0: 'unique_counts'}, axis = 1, inplace=True)\n",
    "unique_df['data_type'] = data_list\n",
    "unique_df.head(30)"
   ]
  },
  {
   "cell_type": "markdown",
   "metadata": {},
   "source": [
    "### Problem 3: Understanding the Features\n",
    "\n",
    "\n",
    "Examine the data description below, and determine if any of the features are missing values or need to be coerced to a different data type.\n",
    "\n",
    "\n",
    "```\n",
    "Input variables:\n",
    "# bank client data:\n",
    "1 - age (numeric)\n",
    "2 - job : type of job (categorical: 'admin.','blue-collar','entrepreneur','housemaid','management','retired','self-employed','services','student','technician','unemployed','unknown')\n",
    "3 - marital : marital status (categorical: 'divorced','married','single','unknown'; note: 'divorced' means divorced or widowed)\n",
    "4 - education (categorical: 'basic.4y','basic.6y','basic.9y','high.school','illiterate','professional.course','university.degree','unknown')\n",
    "5 - default: has credit in default? (categorical: 'no','yes','unknown')\n",
    "6 - housing: has housing loan? (categorical: 'no','yes','unknown')\n",
    "7 - loan: has personal loan? (categorical: 'no','yes','unknown')\n",
    "# related with the last contact of the current campaign:\n",
    "8 - contact: contact communication type (categorical: 'cellular','telephone')\n",
    "9 - month: last contact month of year (categorical: 'jan', 'feb', 'mar', ..., 'nov', 'dec')\n",
    "10 - day_of_week: last contact day of the week (categorical: 'mon','tue','wed','thu','fri')\n",
    "11 - duration: last contact duration, in seconds (numeric). Important note: this attribute highly affects the output target (e.g., if duration=0 then y='no'). Yet, the duration is not known before a call is performed. Also, after the end of the call y is obviously known. Thus, this input should only be included for benchmark purposes and should be discarded if the intention is to have a realistic predictive model.\n",
    "# other attributes:\n",
    "12 - campaign: number of contacts performed during this campaign and for this client (numeric, includes last contact)\n",
    "13 - pdays: number of days that passed by after the client was last contacted from a previous campaign (numeric; 999 means client was not previously contacted)\n",
    "14 - previous: number of contacts performed before this campaign and for this client (numeric)\n",
    "15 - poutcome: outcome of the previous marketing campaign (categorical: 'failure','nonexistent','success')\n",
    "# social and economic context attributes\n",
    "16 - emp.var.rate: employment variation rate - quarterly indicator (numeric)\n",
    "17 - cons.price.idx: consumer price index - monthly indicator (numeric)\n",
    "18 - cons.conf.idx: consumer confidence index - monthly indicator (numeric)\n",
    "19 - euribor3m: euribor 3 month rate - daily indicator (numeric)\n",
    "20 - nr.employed: number of employees - quarterly indicator (numeric)\n",
    "\n",
    "Output variable (desired target):\n",
    "21 - y - has the client subscribed a term deposit? (binary: 'yes','no')\n",
    "```\n",
    "\n"
   ]
  },
  {
   "cell_type": "code",
   "execution_count": 168,
   "metadata": {},
   "outputs": [
    {
     "name": "stdout",
     "output_type": "stream",
     "text": [
      "Average age: 40.01985884643466\n"
     ]
    },
    {
     "data": {
      "image/png": "[encoded data removed]",
      "text/plain": [
       "<Figure size 640x480 with 1 Axes>"
      ]
     },
     "metadata": {},
     "output_type": "display_data"
    }
   ],
   "source": [
    "# Plot for the only properly continuous variable in the dataset, age\n",
    "sns.histplot(df['age'], bins = 25, kde=True, stat = 'count').set_title('Distribution of Ages')\n",
    "plt.xlabel('Age (yrs)')\n",
    "print(f'Average age: {df['age'].mean()}')"
   ]
  },
  {
   "cell_type": "code",
   "execution_count": 140,
   "metadata": {},
   "outputs": [
    {
     "data": {
      "text/plain": [
       "[Text(0.5, 1.0, 'Socioeconomic Indicators')]"
      ]
     },
     "execution_count": 140,
     "metadata": {},
     "output_type": "execute_result"
    },
    {
     "data": {
      "image/png": "[encoded data removed]",
      "text/plain": [
       "<Figure size 600x1600 with 5 Axes>"
      ]
     },
     "metadata": {},
     "output_type": "display_data"
    }
   ],
   "source": [
    "# Figure with subplots to visualize socioeconomic indicator metrics\n",
    "fig, axes = plt.subplots(ncols = 1, nrows = 5, figsize = (6, 16))\n",
    "sns.histplot(df['emp.var.rate'], ax = axes[0])\n",
    "sns.histplot(df['cons.conf.idx'], ax = axes[1])\n",
    "sns.histplot(df['cons.price.idx'], ax = axes[2])\n",
    "sns.histplot(df['euribor3m'], ax = axes[3])\n",
    "sns.histplot(df['nr.employed'], ax = axes[4])\n",
    "axes[0].set(title = 'Socioeconomic Indicators')"
   ]
  },
  {
   "cell_type": "code",
   "execution_count": 141,
   "metadata": {},
   "outputs": [
    {
     "data": {
      "text/plain": [
       "[Text(0.5, 0, 'loan default')]"
      ]
     },
     "execution_count": 141,
     "metadata": {},
     "output_type": "execute_result"
    },
    {
     "data": {
      "image/png": "[encoded data removed]",
      "text/plain": [
       "<Figure size 300x500 with 3 Axes>"
      ]
     },
     "metadata": {},
     "output_type": "display_data"
    }
   ],
   "source": [
    "# Create a dataframe for visualization purposes of categorical variables\n",
    "plot_df = df.copy()\n",
    "plot_df['loan'] = pd.Categorical(plot_df['loan'], ['no','yes','unknown'])\n",
    "plot_df['housing'] = pd.Categorical(plot_df['housing'], ['no','yes','unknown'])\n",
    "plot_df['default'] = pd.Categorical(plot_df['default'], ['no','yes','unknown'])\n",
    "\n",
    "# Generate subplot figure for the distributions of factors related to loan statuses\n",
    "fig, axes = plt.subplots(ncols = 1, nrows = 3, figsize = (3, 5)) #figsize = ...\n",
    "sns.histplot(plot_df['loan'], ax = axes[0])\n",
    "sns.histplot(plot_df['housing'], ax = axes[1])\n",
    "sns.histplot(plot_df['default'], ax = axes[2])\n",
    "axes[0].set(xlabel='personal loan', xticks = [], xticklabels = [], title = 'Loan Status')\n",
    "axes[1].set(xlabel='housing loan', xticks = [], xticklabels = [])\n",
    "axes[2].set(xlabel='loan default')"
   ]
  },
  {
   "cell_type": "code",
   "execution_count": 142,
   "metadata": {},
   "outputs": [
    {
     "data": {
      "text/plain": [
       "[Text(0.5, 0, 'education')]"
      ]
     },
     "execution_count": 142,
     "metadata": {},
     "output_type": "execute_result"
    },
    {
     "data": {
      "image/png": "[encoded data removed]",
      "text/plain": [
       "<Figure size 1800x1000 with 3 Axes>"
      ]
     },
     "metadata": {},
     "output_type": "display_data"
    }
   ],
   "source": [
    "# Create categorical variables for visualization purposes (arbitrary order for job, unknown last)\n",
    "plot_df = df.copy()\n",
    "plot_df['job'] = pd.Categorical(plot_df['job'], ['housemaid', 'services', 'admin.', 'blue-collar', 'technician', 'management',\n",
    "                                                 'entrepreneur', 'self-employed', 'retired', 'student', 'unemployed', 'unknown'])\n",
    "plot_df['marital'] = pd.Categorical(plot_df['marital'], ['single', 'married', 'divorced', 'unknown'])\n",
    "plot_df['education'] = pd.Categorical(plot_df['education'], ['illiterate', 'basic.4y', 'basic.6y', 'basic.9y', 'high.school',\n",
    "                                                             'university.degree', 'professional.course', 'unknown'])\n",
    "\n",
    "# Generate subplot figure for personal client information\n",
    "fig, axes = plt.subplots(ncols = 1, nrows = 3, figsize = (18, 10)) #figsize = ...\n",
    "sns.histplot(plot_df['job'], ax = axes[0])\n",
    "sns.histplot(plot_df['marital'], ax = axes[1])\n",
    "sns.histplot(plot_df['education'], ax = axes[2])\n",
    "axes[0].set(xlabel='job', title = 'Personal Client Information')\n",
    "axes[1].set(xlabel='marital')\n",
    "axes[2].set(xlabel='education')"
   ]
  },
  {
   "cell_type": "code",
   "execution_count": 143,
   "metadata": {},
   "outputs": [
    {
     "data": {
      "text/plain": [
       "[Text(0.5, 0, 'month')]"
      ]
     },
     "execution_count": 143,
     "metadata": {},
     "output_type": "execute_result"
    },
    {
     "data": {
      "image/png": "[encoded data removed]",
      "text/plain": [
       "<Figure size 500x500 with 3 Axes>"
      ]
     },
     "metadata": {},
     "output_type": "display_data"
    }
   ],
   "source": [
    "# Create categorical variable for month to ensure proper order in visualization\n",
    "plot_df = df.copy()\n",
    "plot_df['month'] = pd.Categorical(plot_df['month'], ['mar','apr','may','jun','jul','aug','sep','oct','nov','dec'])\n",
    "\n",
    "# Generate subplots for information related to the last contact with customer\n",
    "fig, axes = plt.subplots(ncols = 1, nrows = 3, figsize = (5, 5)) #figsize = ...\n",
    "sns.histplot(plot_df['contact'], ax = axes[0])\n",
    "sns.histplot(plot_df['day_of_week'], ax = axes[1])\n",
    "sns.histplot(plot_df['month'], ax = axes[2])\n",
    "axes[0].set(xlabel='contact',title = 'Last Contact with Customer')\n",
    "axes[1].set(xlabel='day_of_week')\n",
    "axes[2].set(xlabel='month')"
   ]
  },
  {
   "cell_type": "markdown",
   "metadata": {},
   "source": [
    "### Problem 4: Understanding the Task\n",
    "\n",
    "After examining the description and data, your goal now is to clearly state the *Business Objective* of the task.  State the objective below."
   ]
  },
  {
   "cell_type": "markdown",
   "metadata": {},
   "source": [
    "#### Business Objective: Identify essential factors for predicting whether a client will accept the long-term deposit offer and characterize the relationship between basic client attributes and their acceptance/rejection choice"
   ]
  },
  {
   "cell_type": "markdown",
   "metadata": {},
   "source": [
    "### Problem 5: Engineering Features\n",
    "\n",
    "Now that you understand your business objective, we will build a basic model to get started.  Before we can do this, we must work to encode the data.  Using just the bank information features, prepare the features and target column for modeling with appropriate encoding and transformations."
   ]
  },
  {
   "cell_type": "markdown",
   "metadata": {},
   "source": [
    "```\n",
    "1 - age (numeric)\n",
    "2 - job : type of job (categorical: 'admin.','blue-collar','entrepreneur','housemaid','management','retired','self-employed','services','student','technician','unemployed','unknown')\n",
    "3 - marital : marital status (categorical: 'divorced','married','single','unknown'; note: 'divorced' means divorced or widowed)\n",
    "4 - education (categorical: 'basic.4y','basic.6y','basic.9y','high.school','illiterate','professional.course','university.degree','unknown')\n",
    "5 - default: has credit in default? (categorical: 'no','yes','unknown')\n",
    "6 - housing: has housing loan? (categorical: 'no','yes','unknown')\n",
    "7 - loan: has personal loan? (categorical: 'no','yes','unknown')\n",
    "```"
   ]
  },
  {
   "cell_type": "code",
   "execution_count": 144,
   "metadata": {},
   "outputs": [],
   "source": [
    "# Translate target into numeric value\n",
    "df['y'].replace({'yes': 1, 'no': 0}, inplace = True)\n",
    "\n",
    "# Drop illiterate class for education and unknown class for marital due to lacking samples\n",
    "df = df.drop(df[df['education'] == 'illiterate'].index)\n",
    "df = df.drop(df[df['marital'] == 'unknown'].index)\n",
    "\n",
    "# Translate education categories into the corresponding numnber of years of study\n",
    "df['education'].replace({'unknown': 0, 'basic.4y': 4, 'basic.6y': 6, 'basic.9y': 9,\n",
    "                         'high.school': 12, 'university.degree': 16, 'professional.course': 20}, inplace = True)\n",
    "\n",
    "# Create separate data frame for the simple model that will be used for reference and comparison\n",
    "simple_df = df[['age','job','marital','education','default','housing','loan','y']]"
   ]
  },
  {
   "cell_type": "code",
   "execution_count": 145,
   "metadata": {},
   "outputs": [],
   "source": [
    "# MEstimateEncoder used instead of OneHotEncoder for computation and interpretation purposes, both encoders yield equivalent results\n",
    "column_transformer = ColumnTransformer(\n",
    "    [('mestimate', MEstimateEncoder(), ['marital','default','housing','loan','job']),\n",
    "     ('scale', StandardScaler(), ['age'])],\n",
    "     remainder = 'passthrough')"
   ]
  },
  {
   "cell_type": "code",
   "execution_count": 146,
   "metadata": {},
   "outputs": [
    {
     "data": {
      "text/html": [
       "<div>\n",
       "<style scoped>\n",
       "    .dataframe tbody tr th:only-of-type {\n",
       "        vertical-align: middle;\n",
       "    }\n",
       "\n",
       "    .dataframe tbody tr th {\n",
       "        vertical-align: top;\n",
       "    }\n",
       "\n",
       "    .dataframe thead th {\n",
       "        text-align: right;\n",
       "    }\n",
       "</style>\n",
       "<table border=\"1\" class=\"dataframe\">\n",
       "  <thead>\n",
       "    <tr style=\"text-align: right;\">\n",
       "      <th></th>\n",
       "      <th>age</th>\n",
       "      <th>job</th>\n",
       "      <th>marital</th>\n",
       "      <th>education</th>\n",
       "      <th>default</th>\n",
       "      <th>housing</th>\n",
       "      <th>loan</th>\n",
       "      <th>contact</th>\n",
       "      <th>month</th>\n",
       "      <th>day_of_week</th>\n",
       "      <th>duration</th>\n",
       "      <th>campaign</th>\n",
       "      <th>pdays</th>\n",
       "      <th>previous</th>\n",
       "      <th>poutcome</th>\n",
       "      <th>emp.var.rate</th>\n",
       "      <th>cons.price.idx</th>\n",
       "      <th>cons.conf.idx</th>\n",
       "      <th>euribor3m</th>\n",
       "      <th>nr.employed</th>\n",
       "      <th>y</th>\n",
       "    </tr>\n",
       "  </thead>\n",
       "  <tbody>\n",
       "    <tr>\n",
       "      <th>0</th>\n",
       "      <td>56</td>\n",
       "      <td>housemaid</td>\n",
       "      <td>married</td>\n",
       "      <td>4</td>\n",
       "      <td>no</td>\n",
       "      <td>no</td>\n",
       "      <td>no</td>\n",
       "      <td>telephone</td>\n",
       "      <td>may</td>\n",
       "      <td>mon</td>\n",
       "      <td>261</td>\n",
       "      <td>1</td>\n",
       "      <td>999</td>\n",
       "      <td>0</td>\n",
       "      <td>nonexistent</td>\n",
       "      <td>1.1</td>\n",
       "      <td>93.994</td>\n",
       "      <td>-36.4</td>\n",
       "      <td>4.857</td>\n",
       "      <td>5191.0</td>\n",
       "      <td>0</td>\n",
       "    </tr>\n",
       "    <tr>\n",
       "      <th>1</th>\n",
       "      <td>57</td>\n",
       "      <td>services</td>\n",
       "      <td>married</td>\n",
       "      <td>12</td>\n",
       "      <td>unknown</td>\n",
       "      <td>no</td>\n",
       "      <td>no</td>\n",
       "      <td>telephone</td>\n",
       "      <td>may</td>\n",
       "      <td>mon</td>\n",
       "      <td>149</td>\n",
       "      <td>1</td>\n",
       "      <td>999</td>\n",
       "      <td>0</td>\n",
       "      <td>nonexistent</td>\n",
       "      <td>1.1</td>\n",
       "      <td>93.994</td>\n",
       "      <td>-36.4</td>\n",
       "      <td>4.857</td>\n",
       "      <td>5191.0</td>\n",
       "      <td>0</td>\n",
       "    </tr>\n",
       "    <tr>\n",
       "      <th>2</th>\n",
       "      <td>37</td>\n",
       "      <td>services</td>\n",
       "      <td>married</td>\n",
       "      <td>12</td>\n",
       "      <td>no</td>\n",
       "      <td>yes</td>\n",
       "      <td>no</td>\n",
       "      <td>telephone</td>\n",
       "      <td>may</td>\n",
       "      <td>mon</td>\n",
       "      <td>226</td>\n",
       "      <td>1</td>\n",
       "      <td>999</td>\n",
       "      <td>0</td>\n",
       "      <td>nonexistent</td>\n",
       "      <td>1.1</td>\n",
       "      <td>93.994</td>\n",
       "      <td>-36.4</td>\n",
       "      <td>4.857</td>\n",
       "      <td>5191.0</td>\n",
       "      <td>0</td>\n",
       "    </tr>\n",
       "    <tr>\n",
       "      <th>3</th>\n",
       "      <td>40</td>\n",
       "      <td>admin.</td>\n",
       "      <td>married</td>\n",
       "      <td>6</td>\n",
       "      <td>no</td>\n",
       "      <td>no</td>\n",
       "      <td>no</td>\n",
       "      <td>telephone</td>\n",
       "      <td>may</td>\n",
       "      <td>mon</td>\n",
       "      <td>151</td>\n",
       "      <td>1</td>\n",
       "      <td>999</td>\n",
       "      <td>0</td>\n",
       "      <td>nonexistent</td>\n",
       "      <td>1.1</td>\n",
       "      <td>93.994</td>\n",
       "      <td>-36.4</td>\n",
       "      <td>4.857</td>\n",
       "      <td>5191.0</td>\n",
       "      <td>0</td>\n",
       "    </tr>\n",
       "    <tr>\n",
       "      <th>4</th>\n",
       "      <td>56</td>\n",
       "      <td>services</td>\n",
       "      <td>married</td>\n",
       "      <td>12</td>\n",
       "      <td>no</td>\n",
       "      <td>no</td>\n",
       "      <td>yes</td>\n",
       "      <td>telephone</td>\n",
       "      <td>may</td>\n",
       "      <td>mon</td>\n",
       "      <td>307</td>\n",
       "      <td>1</td>\n",
       "      <td>999</td>\n",
       "      <td>0</td>\n",
       "      <td>nonexistent</td>\n",
       "      <td>1.1</td>\n",
       "      <td>93.994</td>\n",
       "      <td>-36.4</td>\n",
       "      <td>4.857</td>\n",
       "      <td>5191.0</td>\n",
       "      <td>0</td>\n",
       "    </tr>\n",
       "  </tbody>\n",
       "</table>\n",
       "</div>"
      ],
      "text/plain": [
       "   age        job  marital  education  ... cons.conf.idx euribor3m nr.employed  y\n",
       "0   56  housemaid  married          4  ...         -36.4     4.857      5191.0  0\n",
       "1   57   services  married         12  ...         -36.4     4.857      5191.0  0\n",
       "2   37   services  married         12  ...         -36.4     4.857      5191.0  0\n",
       "3   40     admin.  married          6  ...         -36.4     4.857      5191.0  0\n",
       "4   56   services  married         12  ...         -36.4     4.857      5191.0  0\n",
       "\n",
       "[5 rows x 21 columns]"
      ]
     },
     "execution_count": 146,
     "metadata": {},
     "output_type": "execute_result"
    }
   ],
   "source": [
    "df.head()"
   ]
  },
  {
   "cell_type": "markdown",
   "metadata": {},
   "source": [
    "### Problem 6: Train/Test Split\n",
    "\n",
    "With your data prepared, split it into a train and test set."
   ]
  },
  {
   "cell_type": "code",
   "execution_count": 147,
   "metadata": {},
   "outputs": [],
   "source": [
    "# The entire dataset used for a baseline using the dummy classifier (excluding duration)\n",
    "X_ini_train, X_ini_test, y_ini_train, y_ini_test = train_test_split(df.drop(['y', 'duration'], axis = 1), df['y'], test_size = 0.2, random_state = 42)\n",
    "\n",
    "# The duration column used as a secondary baseline model (benchmark purposes)\n",
    "X_dur_train, X_dur_test, y_dur_train, y_dur_test = train_test_split(df[['duration']], df['y'], test_size = 0.2, random_state = 42)\n",
    "\n",
    "# The 7 factors isolated in Problem 5 used for a simplified model\n",
    "X_simple_train, X_simple_test, y_simple_train, y_simple_test = train_test_split(simple_df.drop('y', axis = 1), simple_df['y'], test_size = 0.2, random_state = 42)"
   ]
  },
  {
   "cell_type": "markdown",
   "metadata": {},
   "source": [
    "### Problem 7: A Baseline Model\n",
    "\n",
    "Before we build our first model, we want to establish a baseline.  What is the baseline performance that our classifier should aim to beat?"
   ]
  },
  {
   "cell_type": "markdown",
   "metadata": {},
   "source": [
    "- **F1 score will be the evaluation metric used throughout the project**\n",
    "- **F1 score was chosen due to the inconsistency in target classes, and our preference for determining what variables are related to accepting the long-term deposit offer**\n",
    "- Use dummy classifier (with full dataset)\n",
    "- Duration baseline model is based solely on the duration factor, which is excluded from all other models"
   ]
  },
  {
   "cell_type": "code",
   "execution_count": 148,
   "metadata": {},
   "outputs": [],
   "source": [
    "# The dummy classifier is our initial baseline model\n",
    "start_time = time.time()\n",
    "dummy_clf = DummyClassifier().fit(X_ini_train, y_ini_train)\n",
    "dummy_time = (time.time() - start_time)\n",
    "baseline_train_f1 = f1_score(y_ini_train, dummy_clf.predict(X_ini_train))\n",
    "baseline_test_f1 = f1_score(y_ini_test, dummy_clf.predict(X_ini_test))"
   ]
  },
  {
   "cell_type": "code",
   "execution_count": 149,
   "metadata": {},
   "outputs": [],
   "source": [
    "## The duration secondary baseline model used for benchmark purposes with all 4 classifiers\n",
    "# Test LGR classifier\n",
    "start_time = time.time()\n",
    "dur_lgr = Pipeline([('scale', StandardScaler()),('lgr', LogisticRegression())]).fit(X_dur_train, y_dur_train)\n",
    "dur_lgr_time = (time.time() - start_time)\n",
    "dur_lgr_train_f1 = f1_score(y_dur_train, dur_lgr.predict(X_dur_train))\n",
    "dur_lgr_test_f1 = f1_score(y_dur_test, dur_lgr.predict(X_dur_test))\n",
    "\n",
    "# Test Decision tree classifier\n",
    "start_time = time.time()\n",
    "dur_tree = Pipeline([('scale', StandardScaler()),('tree', DecisionTreeClassifier())]).fit(X_dur_train, y_dur_train)\n",
    "dur_tree_time = (time.time() - start_time)\n",
    "dur_tree_train_f1 = f1_score(y_dur_train, dur_tree.predict(X_dur_train))\n",
    "dur_tree_test_f1 = f1_score(y_dur_test, dur_tree.predict(X_dur_test))\n",
    "\n",
    "# Test k nearest neighbors classifier\n",
    "start_time = time.time()\n",
    "dur_knn = Pipeline([('scale', StandardScaler()),('knn', KNeighborsClassifier())]).fit(X_dur_train, y_dur_train)\n",
    "dur_knn_time = (time.time() - start_time)\n",
    "dur_knn_train_f1 = f1_score(y_dur_train, dur_knn.predict(X_dur_train))\n",
    "dur_knn_test_f1 = f1_score(y_dur_test, dur_knn.predict(X_dur_test))\n",
    "\n",
    "# Test support vector machine classifier\n",
    "start_time = time.time()\n",
    "dur_svm = Pipeline([('scale', StandardScaler()),('svm', SVC())]).fit(X_dur_train, y_dur_train)\n",
    "dur_svm_time = (time.time() - start_time)\n",
    "dur_svm_train_f1 = f1_score(y_dur_train, dur_svm.predict(X_dur_train))\n",
    "dur_svm_test_f1 = f1_score(y_dur_test, dur_svm.predict(X_dur_test))"
   ]
  },
  {
   "cell_type": "code",
   "execution_count": 150,
   "metadata": {},
   "outputs": [
    {
     "data": {
      "text/html": [
       "<div>\n",
       "<style scoped>\n",
       "    .dataframe tbody tr th:only-of-type {\n",
       "        vertical-align: middle;\n",
       "    }\n",
       "\n",
       "    .dataframe tbody tr th {\n",
       "        vertical-align: top;\n",
       "    }\n",
       "\n",
       "    .dataframe thead th {\n",
       "        text-align: right;\n",
       "    }\n",
       "</style>\n",
       "<table border=\"1\" class=\"dataframe\">\n",
       "  <thead>\n",
       "    <tr style=\"text-align: right;\">\n",
       "      <th></th>\n",
       "      <th>Model</th>\n",
       "      <th>Train Time</th>\n",
       "      <th>Train F1</th>\n",
       "      <th>Test F1</th>\n",
       "    </tr>\n",
       "  </thead>\n",
       "  <tbody>\n",
       "    <tr>\n",
       "      <th>0</th>\n",
       "      <td>dummy</td>\n",
       "      <td>0.001376</td>\n",
       "      <td>0.000000</td>\n",
       "      <td>0.000000</td>\n",
       "    </tr>\n",
       "    <tr>\n",
       "      <th>1</th>\n",
       "      <td>dur lgr</td>\n",
       "      <td>0.012750</td>\n",
       "      <td>0.248788</td>\n",
       "      <td>0.288678</td>\n",
       "    </tr>\n",
       "    <tr>\n",
       "      <th>2</th>\n",
       "      <td>dur tree</td>\n",
       "      <td>0.026361</td>\n",
       "      <td>0.355020</td>\n",
       "      <td>0.238176</td>\n",
       "    </tr>\n",
       "    <tr>\n",
       "      <th>3</th>\n",
       "      <td>dur knn</td>\n",
       "      <td>0.008049</td>\n",
       "      <td>0.391963</td>\n",
       "      <td>0.307469</td>\n",
       "    </tr>\n",
       "    <tr>\n",
       "      <th>4</th>\n",
       "      <td>dur svm</td>\n",
       "      <td>6.296698</td>\n",
       "      <td>0.273455</td>\n",
       "      <td>0.304422</td>\n",
       "    </tr>\n",
       "  </tbody>\n",
       "</table>\n",
       "</div>"
      ],
      "text/plain": [
       "      Model  Train Time  Train F1   Test F1\n",
       "0     dummy    0.001376  0.000000  0.000000\n",
       "1   dur lgr    0.012750  0.248788  0.288678\n",
       "2  dur tree    0.026361  0.355020  0.238176\n",
       "3   dur knn    0.008049  0.391963  0.307469\n",
       "4   dur svm    6.296698  0.273455  0.304422"
      ]
     },
     "execution_count": 150,
     "metadata": {},
     "output_type": "execute_result"
    }
   ],
   "source": [
    "# Build table for baseline model performance\n",
    "baseline_df = pd.DataFrame({'Model': ['dummy', 'dur lgr', 'dur tree', 'dur knn', 'dur svm'],\n",
    "                            'Train Time': [dummy_time, dur_lgr_time, dur_tree_time, dur_knn_time, dur_svm_time],\n",
    "                            'Train F1': [baseline_train_f1, dur_lgr_train_f1, dur_tree_train_f1, dur_knn_train_f1, dur_svm_train_f1],\n",
    "                            'Test F1': [baseline_test_f1, dur_lgr_test_f1, dur_tree_test_f1, dur_knn_test_f1, dur_svm_test_f1]})\n",
    "baseline_df"
   ]
  },
  {
   "cell_type": "markdown",
   "metadata": {},
   "source": [
    "### Problem 8: A Simple Model\n",
    "\n",
    "Use Logistic Regression to build a basic model on your data.  "
   ]
  },
  {
   "cell_type": "code",
   "execution_count": 151,
   "metadata": {},
   "outputs": [],
   "source": [
    "# Test the LGR model with the simplified data set\n",
    "lgr_pipe = Pipeline([('transformer', column_transformer),\n",
    "                     ('lgr', LogisticRegression())])\n",
    "start_time = time.time()\n",
    "lgr_pipe.fit(X_simple_train, y_simple_train)\n",
    "lgr_time = (time.time() - start_time)\n"
   ]
  },
  {
   "cell_type": "markdown",
   "metadata": {},
   "source": [
    "### Problem 9: Score the Model\n",
    "\n",
    "What is the accuracy of your model?"
   ]
  },
  {
   "cell_type": "code",
   "execution_count": 152,
   "metadata": {},
   "outputs": [],
   "source": [
    "# Evaluate performance of LGR model with F1 score\n",
    "lgr_train_f1 = f1_score(y_simple_train, lgr_pipe.predict(X_simple_train))\n",
    "lgr_test_f1 = f1_score(y_simple_test, lgr_pipe.predict(X_simple_test))"
   ]
  },
  {
   "cell_type": "markdown",
   "metadata": {},
   "source": [
    "### Problem 10: Model Comparisons\n",
    "\n",
    "Now, we aim to compare the performance of the Logistic Regression model to our KNN algorithm, Decision Tree, and SVM models.  Using the default settings for each of the models, fit and score each.  Also, be sure to compare the fit time of each of the models.  Present your findings in a `DataFrame` similar to that below:\n",
    "\n",
    "| Model | Train Time | Train Accuracy | Test Accuracy |\n",
    "| ----- | ---------- | -------------  | -----------   |\n",
    "|     |    |.     |.     |"
   ]
  },
  {
   "cell_type": "code",
   "execution_count": 153,
   "metadata": {},
   "outputs": [],
   "source": [
    "# Evaluate performance of decision tree classifier on simplified data set with f1 score\n",
    "tree_pipe = Pipeline([('transformer', column_transformer),\n",
    "                     ('tree', DecisionTreeClassifier())])\n",
    "start_time = time.time()\n",
    "tree_pipe.fit(X_simple_train, y_simple_train)\n",
    "tree_time = (time.time() - start_time)\n",
    "tree_train_f1 = f1_score(y_simple_train, tree_pipe.predict(X_simple_train))\n",
    "tree_test_f1 = f1_score(y_simple_test, tree_pipe.predict(X_simple_test))\n",
    "\n",
    "# Evaluate performance of k nearest neighbors classifier on simplified data set with f1 score\n",
    "knn_pipe = Pipeline([('transformer', column_transformer),\n",
    "                     ('knn', KNeighborsClassifier())])\n",
    "start_time = time.time()\n",
    "knn_pipe.fit(X_simple_train, y_simple_train)\n",
    "knn_time = (time.time() - start_time)\n",
    "knn_train_f1 = f1_score(y_simple_train, knn_pipe.predict(X_simple_train))\n",
    "knn_test_f1 = f1_score(y_simple_test, knn_pipe.predict(X_simple_test))\n",
    "\n",
    "# Evaluate performance of support vector machine classifier on simplified data set with f1 score\n",
    "svm_pipe = Pipeline([('transformer', column_transformer),\n",
    "                     ('svm', SVC())])\n",
    "start_time = time.time()\n",
    "svm_pipe.fit(X_simple_train, y_simple_train)\n",
    "svm_time = (time.time() - start_time)\n",
    "svm_train_f1 = f1_score(y_simple_train, svm_pipe.predict(X_simple_train))\n",
    "svm_test_f1 = f1_score(y_simple_test, svm_pipe.predict(X_simple_test))\n",
    "\n",
    "simple_result_df = pd.DataFrame({'Model': ['lgr', 'tree', 'knn', 'svm'], 'Train Time': [lgr_time, tree_time, knn_time, svm_time],\n",
    "                                 'Train F1': [lgr_train_f1, tree_train_f1, knn_train_f1, svm_train_f1],\n",
    "                                 'Test F1': [lgr_test_f1, tree_test_f1, knn_test_f1, svm_test_f1]})"
   ]
  },
  {
   "cell_type": "code",
   "execution_count": 154,
   "metadata": {},
   "outputs": [
    {
     "data": {
      "text/html": [
       "<div>\n",
       "<style scoped>\n",
       "    .dataframe tbody tr th:only-of-type {\n",
       "        vertical-align: middle;\n",
       "    }\n",
       "\n",
       "    .dataframe tbody tr th {\n",
       "        vertical-align: top;\n",
       "    }\n",
       "\n",
       "    .dataframe thead th {\n",
       "        text-align: right;\n",
       "    }\n",
       "</style>\n",
       "<table border=\"1\" class=\"dataframe\">\n",
       "  <thead>\n",
       "    <tr style=\"text-align: right;\">\n",
       "      <th></th>\n",
       "      <th>Model</th>\n",
       "      <th>Train Time</th>\n",
       "      <th>Train F1</th>\n",
       "      <th>Test F1</th>\n",
       "    </tr>\n",
       "  </thead>\n",
       "  <tbody>\n",
       "    <tr>\n",
       "      <th>0</th>\n",
       "      <td>lgr</td>\n",
       "      <td>0.110517</td>\n",
       "      <td>0.000000</td>\n",
       "      <td>0.000000</td>\n",
       "    </tr>\n",
       "    <tr>\n",
       "      <th>1</th>\n",
       "      <td>tree</td>\n",
       "      <td>0.106289</td>\n",
       "      <td>0.433197</td>\n",
       "      <td>0.137490</td>\n",
       "    </tr>\n",
       "    <tr>\n",
       "      <th>2</th>\n",
       "      <td>knn</td>\n",
       "      <td>0.079728</td>\n",
       "      <td>0.229202</td>\n",
       "      <td>0.121973</td>\n",
       "    </tr>\n",
       "    <tr>\n",
       "      <th>3</th>\n",
       "      <td>svm</td>\n",
       "      <td>3.555163</td>\n",
       "      <td>0.000000</td>\n",
       "      <td>0.000000</td>\n",
       "    </tr>\n",
       "  </tbody>\n",
       "</table>\n",
       "</div>"
      ],
      "text/plain": [
       "  Model  Train Time  Train F1   Test F1\n",
       "0   lgr    0.110517  0.000000  0.000000\n",
       "1  tree    0.106289  0.433197  0.137490\n",
       "2   knn    0.079728  0.229202  0.121973\n",
       "3   svm    3.555163  0.000000  0.000000"
      ]
     },
     "execution_count": 154,
     "metadata": {},
     "output_type": "execute_result"
    }
   ],
   "source": [
    "# Create dataframe from performance results on simplified data set\n",
    "simple_result_df.head()"
   ]
  },
  {
   "cell_type": "markdown",
   "metadata": {},
   "source": [
    "### Problem 11: Improving the Model\n",
    "\n",
    "Now that we have some basic models on the board, we want to try to improve these.  Below, we list a few things to explore in this pursuit.\n",
    "\n",
    "- More feature engineering and exploration.  For example, should we keep the gender feature?  Why or why not?\n",
    "- Hyperparameter tuning and grid search.  All of our models have additional hyperparameters to tune and explore.  For example the number of neighbors in KNN or the maximum depth of a Decision Tree.  \n",
    "- Adjust your performance metric"
   ]
  },
  {
   "cell_type": "markdown",
   "metadata": {},
   "source": [
    "We will make the following edits to the dataset based on our prior analyses\n",
    "- Eliminate contact since the apparatus was determined by the customer (customer either gave a telephone or cell phone number)\n",
    "- Eliminate duration since it should only be used as a benchmark (linearly dependent variable)\n",
    "- Eliminate pdays due to most samples belonging to \"never being contacted before\"\n",
    "- Eliminate default due to negligible amount of samples for \"yes\"\n",
    "- Eliminate cons.price.idx, cons.conf.idx, emp.var.rate, euribor3m, and nr.employed due to low contribution to model efficiency\n"
   ]
  },
  {
   "cell_type": "code",
   "execution_count": 155,
   "metadata": {},
   "outputs": [],
   "source": [
    "# Encode categorical variables into numerical representations\n",
    "df['poutcome'].replace({'nonexistent': 0, 'failure': -1, 'success': 1}, inplace = True)\n",
    "df['day_of_week'].replace({'mon': 1, 'tue': 2, 'wed': 3, 'thu': 4, 'fri': 5}, inplace = True)\n",
    "df['month'].replace({'mar': 1, 'apr': 2, 'may': 3, 'jun': 4, 'jul': 5, 'aug': 6, 'sep': 7,\n",
    "                    'oct': 8, 'nov': 9, 'dec': 10}, inplace = True)\n",
    "\n",
    "df = df.drop(['contact', 'duration', 'pdays', 'default'], axis = 1)\n",
    "\n",
    "# MEstimateEncoder used instead of OneHotEncoder for computation and interpretation purposes, both encoders yield equivalent results\n",
    "final_transformer = ColumnTransformer(\n",
    "    [('mestimate', MEstimateEncoder(), ['marital', 'housing', 'loan', 'job']),\n",
    "     ('scale', StandardScaler(), ['age', 'campaign', 'previous', 'cons.price.idx', 'cons.conf.idx', 'emp.var.rate', 'euribor3m', 'nr.employed'])],\n",
    "     remainder = 'passthrough')"
   ]
  },
  {
   "cell_type": "code",
   "execution_count": 156,
   "metadata": {},
   "outputs": [],
   "source": [
    "X_train, X_test, y_train, y_test = train_test_split(df.drop('y', axis = 1), df['y'], test_size = 0.2, random_state = 42)\n",
    "\n",
    "models = {\n",
    "    'lgr': (LogisticRegression(max_iter=10000), {'lgr__C': [0.01, 0.1, 1, 10]}),\n",
    "    'tree': (DecisionTreeClassifier(), {'tree__max_depth': [5]}),\n",
    "    'knn': (KNeighborsClassifier(), {'knn__n_neighbors': [1, 3, 5, 7, 9, 11]}),\n",
    "    'svm': (SVC(), {'svm__C': [1, 10], 'svm__kernel': ['rbf', 'linear', 'poly', 'sigmoid']})\n",
    "}\n",
    "\n",
    "names = []\n",
    "train_f1 = []\n",
    "test_f1 = []\n",
    "fit_times = []\n",
    "best_params = []\n",
    "final_models = {}\n",
    "\n",
    "for name, (model, params) in models.items():\n",
    "    # Create a pipeline\n",
    "    pipeline = Pipeline([\n",
    "        ('preprocessor', final_transformer),\n",
    "        (name, model)\n",
    "    ])\n",
    "    \n",
    "    # Perform grid search\n",
    "    grid_search = GridSearchCV(pipeline, param_grid = params, cv = 5, n_jobs = -1)\n",
    "    \n",
    "    # Fit the model and time it\n",
    "    start_time = time.time()\n",
    "    grid_search.fit(X_train, y_train)\n",
    "    fit_time = (time.time() - start_time) / len(grid_search.cv_results_['mean_fit_time'])\n",
    "    \n",
    "    # Get the best estimator\n",
    "    best_model = grid_search.best_estimator_\n",
    "    \n",
    "    # Evaluate on training and test sets\n",
    "    train_score = f1_score(y_train, best_model.predict(X_train))\n",
    "    test_score = f1_score(y_test, best_model.predict(X_test))\n",
    "    \n",
    "    # Append the results\n",
    "    final_models[name] = grid_search\n",
    "    train_f1.append(train_score)\n",
    "    test_f1.append(test_score)\n",
    "    fit_times.append(fit_time)\n",
    "    best_params.append(grid_search.best_params_)\n",
    "    names.append(name)"
   ]
  },
  {
   "cell_type": "code",
   "execution_count": 157,
   "metadata": {},
   "outputs": [
    {
     "data": {
      "text/html": [
       "<div>\n",
       "<style scoped>\n",
       "    .dataframe tbody tr th:only-of-type {\n",
       "        vertical-align: middle;\n",
       "    }\n",
       "\n",
       "    .dataframe tbody tr th {\n",
       "        vertical-align: top;\n",
       "    }\n",
       "\n",
       "    .dataframe thead th {\n",
       "        text-align: right;\n",
       "    }\n",
       "</style>\n",
       "<table border=\"1\" class=\"dataframe\">\n",
       "  <thead>\n",
       "    <tr style=\"text-align: right;\">\n",
       "      <th></th>\n",
       "      <th>Model</th>\n",
       "      <th>Train Time</th>\n",
       "      <th>Train F1</th>\n",
       "      <th>Test F1</th>\n",
       "      <th>Best Parameters</th>\n",
       "    </tr>\n",
       "  </thead>\n",
       "  <tbody>\n",
       "    <tr>\n",
       "      <th>0</th>\n",
       "      <td>lgr</td>\n",
       "      <td>1.849427</td>\n",
       "      <td>0.281497</td>\n",
       "      <td>0.285971</td>\n",
       "      <td>{'lgr__C': 0.1}</td>\n",
       "    </tr>\n",
       "    <tr>\n",
       "      <th>1</th>\n",
       "      <td>tree</td>\n",
       "      <td>0.590387</td>\n",
       "      <td>0.298450</td>\n",
       "      <td>0.293644</td>\n",
       "      <td>{'tree__max_depth': 5}</td>\n",
       "    </tr>\n",
       "    <tr>\n",
       "      <th>2</th>\n",
       "      <td>knn</td>\n",
       "      <td>0.660149</td>\n",
       "      <td>0.410380</td>\n",
       "      <td>0.330421</td>\n",
       "      <td>{'knn__n_neighbors': 11}</td>\n",
       "    </tr>\n",
       "    <tr>\n",
       "      <th>3</th>\n",
       "      <td>svm</td>\n",
       "      <td>318.246998</td>\n",
       "      <td>0.274256</td>\n",
       "      <td>0.276615</td>\n",
       "      <td>{'svm__C': 10, 'svm__kernel': 'poly'}</td>\n",
       "    </tr>\n",
       "  </tbody>\n",
       "</table>\n",
       "</div>"
      ],
      "text/plain": [
       "  Model  Train Time  Train F1   Test F1                        Best Parameters\n",
       "0   lgr    1.849427  0.281497  0.285971                        {'lgr__C': 0.1}\n",
       "1  tree    0.590387  0.298450  0.293644                 {'tree__max_depth': 5}\n",
       "2   knn    0.660149  0.410380  0.330421               {'knn__n_neighbors': 11}\n",
       "3   svm  318.246998  0.274256  0.276615  {'svm__C': 10, 'svm__kernel': 'poly'}"
      ]
     },
     "execution_count": 157,
     "metadata": {},
     "output_type": "execute_result"
    }
   ],
   "source": [
    "result_df = pd.DataFrame({'Model': names, 'Train Time': fit_times, 'Train F1': train_f1, \n",
    "                          'Test F1': test_f1, 'Best Parameters': best_params})\n",
    "result_df.head()"
   ]
  },
  {
   "cell_type": "code",
   "execution_count": 158,
   "metadata": {},
   "outputs": [
    {
     "data": {
      "text/html": [
       "<div>\n",
       "<style scoped>\n",
       "    .dataframe tbody tr th:only-of-type {\n",
       "        vertical-align: middle;\n",
       "    }\n",
       "\n",
       "    .dataframe tbody tr th {\n",
       "        vertical-align: top;\n",
       "    }\n",
       "\n",
       "    .dataframe thead th {\n",
       "        text-align: right;\n",
       "    }\n",
       "</style>\n",
       "<table border=\"1\" class=\"dataframe\">\n",
       "  <thead>\n",
       "    <tr style=\"text-align: right;\">\n",
       "      <th></th>\n",
       "      <th>Model</th>\n",
       "      <th>Train Time</th>\n",
       "      <th>Train F1</th>\n",
       "      <th>Test F1</th>\n",
       "    </tr>\n",
       "  </thead>\n",
       "  <tbody>\n",
       "    <tr>\n",
       "      <th>0</th>\n",
       "      <td>lgr</td>\n",
       "      <td>0.110517</td>\n",
       "      <td>0.000000</td>\n",
       "      <td>0.000000</td>\n",
       "    </tr>\n",
       "    <tr>\n",
       "      <th>1</th>\n",
       "      <td>tree</td>\n",
       "      <td>0.106289</td>\n",
       "      <td>0.433197</td>\n",
       "      <td>0.137490</td>\n",
       "    </tr>\n",
       "    <tr>\n",
       "      <th>2</th>\n",
       "      <td>knn</td>\n",
       "      <td>0.079728</td>\n",
       "      <td>0.229202</td>\n",
       "      <td>0.121973</td>\n",
       "    </tr>\n",
       "    <tr>\n",
       "      <th>3</th>\n",
       "      <td>svm</td>\n",
       "      <td>3.555163</td>\n",
       "      <td>0.000000</td>\n",
       "      <td>0.000000</td>\n",
       "    </tr>\n",
       "  </tbody>\n",
       "</table>\n",
       "</div>"
      ],
      "text/plain": [
       "  Model  Train Time  Train F1   Test F1\n",
       "0   lgr    0.110517  0.000000  0.000000\n",
       "1  tree    0.106289  0.433197  0.137490\n",
       "2   knn    0.079728  0.229202  0.121973\n",
       "3   svm    3.555163  0.000000  0.000000"
      ]
     },
     "execution_count": 158,
     "metadata": {},
     "output_type": "execute_result"
    }
   ],
   "source": [
    "simple_result_df"
   ]
  },
  {
   "cell_type": "code",
   "execution_count": 159,
   "metadata": {},
   "outputs": [
    {
     "data": {
      "text/html": [
       "<div>\n",
       "<style scoped>\n",
       "    .dataframe tbody tr th:only-of-type {\n",
       "        vertical-align: middle;\n",
       "    }\n",
       "\n",
       "    .dataframe tbody tr th {\n",
       "        vertical-align: top;\n",
       "    }\n",
       "\n",
       "    .dataframe thead th {\n",
       "        text-align: right;\n",
       "    }\n",
       "</style>\n",
       "<table border=\"1\" class=\"dataframe\">\n",
       "  <thead>\n",
       "    <tr style=\"text-align: right;\">\n",
       "      <th></th>\n",
       "      <th>Model</th>\n",
       "      <th>Train Time</th>\n",
       "      <th>Train F1</th>\n",
       "      <th>Test F1</th>\n",
       "    </tr>\n",
       "  </thead>\n",
       "  <tbody>\n",
       "    <tr>\n",
       "      <th>0</th>\n",
       "      <td>dummy</td>\n",
       "      <td>0.001376</td>\n",
       "      <td>0.000000</td>\n",
       "      <td>0.000000</td>\n",
       "    </tr>\n",
       "    <tr>\n",
       "      <th>1</th>\n",
       "      <td>dur lgr</td>\n",
       "      <td>0.012750</td>\n",
       "      <td>0.248788</td>\n",
       "      <td>0.288678</td>\n",
       "    </tr>\n",
       "    <tr>\n",
       "      <th>2</th>\n",
       "      <td>dur tree</td>\n",
       "      <td>0.026361</td>\n",
       "      <td>0.355020</td>\n",
       "      <td>0.238176</td>\n",
       "    </tr>\n",
       "    <tr>\n",
       "      <th>3</th>\n",
       "      <td>dur knn</td>\n",
       "      <td>0.008049</td>\n",
       "      <td>0.391963</td>\n",
       "      <td>0.307469</td>\n",
       "    </tr>\n",
       "    <tr>\n",
       "      <th>4</th>\n",
       "      <td>dur svm</td>\n",
       "      <td>6.296698</td>\n",
       "      <td>0.273455</td>\n",
       "      <td>0.304422</td>\n",
       "    </tr>\n",
       "  </tbody>\n",
       "</table>\n",
       "</div>"
      ],
      "text/plain": [
       "      Model  Train Time  Train F1   Test F1\n",
       "0     dummy    0.001376  0.000000  0.000000\n",
       "1   dur lgr    0.012750  0.248788  0.288678\n",
       "2  dur tree    0.026361  0.355020  0.238176\n",
       "3   dur knn    0.008049  0.391963  0.307469\n",
       "4   dur svm    6.296698  0.273455  0.304422"
      ]
     },
     "execution_count": 159,
     "metadata": {},
     "output_type": "execute_result"
    }
   ],
   "source": [
    "baseline_df"
   ]
  },
  {
   "cell_type": "markdown",
   "metadata": {},
   "source": [
    "## Feature Importance\n"
   ]
  },
  {
   "cell_type": "code",
   "execution_count": 160,
   "metadata": {},
   "outputs": [
    {
     "name": "stdout",
     "output_type": "stream",
     "text": [
      "\n",
      "Feature Importance from Decision Tree on simplified dataset:\n",
      "     feature  importance\n",
      "3  education    0.027160\n",
      "1        job    0.025298\n",
      "0        age    0.018228\n",
      "2    marital    0.006498\n",
      "4    default    0.002981\n",
      "6       loan   -0.000012\n",
      "5    housing   -0.000621\n",
      "\\Permutation importance from Logistic Regression on simplified dataset:\n",
      "     feature  coefficient\n",
      "0        age          0.0\n",
      "1        job          0.0\n",
      "2    marital          0.0\n",
      "3  education          0.0\n",
      "4    default          0.0\n",
      "5    housing          0.0\n",
      "6       loan          0.0\n",
      "\n",
      "Permutation Importance from KNN on simplified dataset:\n",
      "     feature  importance\n",
      "0        age    0.008104\n",
      "1        job    0.002300\n",
      "3  education    0.001874\n",
      "2    marital    0.000438\n",
      "4    default    0.000207\n",
      "6       loan   -0.000462\n",
      "5    housing   -0.002154\n",
      "\n",
      "Permutation Importance from SVC on simplified dataset:\n",
      "     feature  importance\n",
      "0        age         0.0\n",
      "1        job         0.0\n",
      "2    marital         0.0\n",
      "3  education         0.0\n",
      "4    default         0.0\n",
      "5    housing         0.0\n",
      "6       loan         0.0\n"
     ]
    }
   ],
   "source": [
    "# Feature importance from Decision Tree\n",
    "simple_importances_tree = permutation_importance(tree_pipe, X_simple_test, y_simple_test, n_repeats=10, random_state=42, n_jobs=-1)\n",
    "simple_importance_tree = pd.DataFrame({'feature': X_simple_train.columns, 'importance': simple_importances_tree.importances_mean})\n",
    "simple_importance_tree = simple_importance_tree.sort_values(by='importance', ascending=False)\n",
    "print(\"\\nFeature Importance from Decision Tree on simplified dataset:\")\n",
    "print(simple_importance_tree)\n",
    "\n",
    "# Coefficients from Logistic regression\n",
    "perm_importances_lgr = permutation_importance(lgr_pipe, X_simple_test, y_simple_test, n_repeats=10, random_state=42, n_jobs=-1)\n",
    "perm_importances_lgr = pd.DataFrame({'feature': X_simple_train.columns, 'coefficient': perm_importances_lgr.importances_mean})\n",
    "perm_importances_lgr = perm_importances_lgr.sort_values(by='coefficient', ascending=False)\n",
    "print(\"\\Permutation importance from Logistic Regression on simplified dataset:\")\n",
    "print(perm_importances_lgr)\n",
    "\n",
    "# Feature importance using permutation for KNN\n",
    "result_knn = permutation_importance(knn_pipe, X_simple_test, y_simple_test, n_repeats=10, random_state=42, n_jobs=-1)\n",
    "perm_importances_knn = pd.DataFrame({'feature': X_simple_train.columns, 'importance': result_knn.importances_mean})\n",
    "perm_importances_knn = perm_importances_knn.sort_values(by='importance', ascending=False)\n",
    "print(\"\\nPermutation Importance from KNN on simplified dataset:\")\n",
    "print(perm_importances_knn)\n",
    "\n",
    "# Feature importance using permutation for SVR\n",
    "svm_model = SVC(C = 10, kernel = 'rbf')\n",
    "result_svm = permutation_importance(svm_pipe, X_simple_test, y_simple_test, n_repeats=10, random_state=42, n_jobs=-1)\n",
    "perm_importances_svm = pd.DataFrame({'feature': X_simple_train.columns, 'importance': result_svm.importances_mean})\n",
    "perm_importances_svm = perm_importances_svm.sort_values(by='importance', ascending=False)\n",
    "print(\"\\nPermutation Importance from SVC on simplified dataset:\")\n",
    "print(perm_importances_svm)\n",
    "\n"
   ]
  },
  {
   "cell_type": "code",
   "execution_count": 161,
   "metadata": {},
   "outputs": [
    {
     "name": "stdout",
     "output_type": "stream",
     "text": [
      "\n",
      "Feature Importance from Decision Tree:\n",
      "           feature  importance\n",
      "10        poutcome    0.011694\n",
      "15     nr.employed    0.008980\n",
      "8         campaign    0.000329\n",
      "13   cons.conf.idx    0.000231\n",
      "7      day_of_week    0.000195\n",
      "1              job    0.000122\n",
      "2          marital    0.000061\n",
      "3        education    0.000000\n",
      "4          housing    0.000000\n",
      "5             loan    0.000000\n",
      "9         previous    0.000000\n",
      "11    emp.var.rate    0.000000\n",
      "12  cons.price.idx    0.000000\n",
      "6            month   -0.000073\n",
      "14       euribor3m   -0.000158\n",
      "0              age   -0.000170\n",
      "\\Permutation importance from Logistic Regression:\n",
      "           feature  importance\n",
      "12  cons.price.idx    0.007496\n",
      "10        poutcome    0.007070\n",
      "11    emp.var.rate    0.005683\n",
      "15     nr.employed    0.000438\n",
      "9         previous    0.000353\n",
      "4          housing    0.000000\n",
      "5             loan    0.000000\n",
      "2          marital   -0.000183\n",
      "0              age   -0.000195\n",
      "8         campaign   -0.000231\n",
      "14       euribor3m   -0.000377\n",
      "7      day_of_week   -0.000402\n",
      "13   cons.conf.idx   -0.000487\n",
      "3        education   -0.000681\n",
      "6            month   -0.000742\n",
      "1              job   -0.000815\n",
      "\n",
      "Permutation Importance from KNN:\n",
      "           feature  importance\n",
      "6            month    0.009163\n",
      "13   cons.conf.idx    0.007812\n",
      "9         previous    0.005293\n",
      "10        poutcome    0.004028\n",
      "12  cons.price.idx    0.003870\n",
      "8         campaign    0.001363\n",
      "7      day_of_week    0.001326\n",
      "15     nr.employed    0.001302\n",
      "3        education    0.000572\n",
      "14       euribor3m    0.000341\n",
      "4          housing    0.000061\n",
      "5             loan    0.000000\n",
      "1              job   -0.000085\n",
      "2          marital   -0.000146\n",
      "11    emp.var.rate   -0.000669\n",
      "0              age   -0.000754\n",
      "\n",
      "Permutation Importance from SVC:\n",
      "           feature  importance\n",
      "10        poutcome    0.009211\n",
      "9         previous    0.008360\n",
      "14       euribor3m    0.004807\n",
      "15     nr.employed    0.004356\n",
      "0              age    0.000621\n",
      "11    emp.var.rate    0.000621\n",
      "12  cons.price.idx    0.000426\n",
      "7      day_of_week    0.000207\n",
      "6            month    0.000024\n",
      "8         campaign    0.000024\n",
      "4          housing    0.000000\n",
      "5             loan    0.000000\n",
      "13   cons.conf.idx   -0.000073\n",
      "2          marital   -0.000073\n",
      "1              job   -0.000122\n",
      "3        education   -0.000219\n"
     ]
    }
   ],
   "source": [
    "# Feature importance from Decision Tree\n",
    "perm_importances_tree = permutation_importance(final_models['tree'], X_test, y_test, n_repeats=10, random_state=42, n_jobs=-1)\n",
    "feature_importance_tree_df = pd.DataFrame({'feature': X_train.columns, 'importance': perm_importances_tree.importances_mean})\n",
    "feature_importance_tree_df = feature_importance_tree_df.sort_values(by='importance', ascending=False)\n",
    "print(\"\\nFeature Importance from Decision Tree:\")\n",
    "print(feature_importance_tree_df)\n",
    "\n",
    "# Coefficients from Logistic regression\n",
    "perm_importances_lgr = permutation_importance(final_models['lgr'], X_test, y_test, n_repeats=10, random_state=42, n_jobs=-1)\n",
    "perm_importances_lgr = pd.DataFrame({'feature': X_train.columns, 'importance': perm_importances_lgr.importances_mean})\n",
    "perm_importances_lgr = perm_importances_lgr.sort_values(by='importance', ascending=False)\n",
    "print(\"\\Permutation importance from Logistic Regression:\")\n",
    "print(perm_importances_lgr)\n",
    "\n",
    "# Feature importance using permutation for KNN\n",
    "result_knn = permutation_importance(final_models['knn'], X_test, y_test, n_repeats=10, random_state=42, n_jobs=-1)\n",
    "perm_importances_knn = pd.DataFrame({'feature': X_train.columns, 'importance': result_knn.importances_mean})\n",
    "perm_importances_knn = perm_importances_knn.sort_values(by='importance', ascending=False)\n",
    "print(\"\\nPermutation Importance from KNN:\")\n",
    "print(perm_importances_knn)\n",
    "\n",
    "# Feature importance using permutation for SVR\n",
    "result_svm = permutation_importance(final_models['svm'], X_test, y_test, n_repeats=10, random_state=42, n_jobs=-1)\n",
    "perm_importances_svm = pd.DataFrame({'feature': X_train.columns, 'importance': result_svm.importances_mean})\n",
    "perm_importances_svm = perm_importances_svm.sort_values(by='importance', ascending=False)\n",
    "print(\"\\nPermutation Importance from SVC:\")\n",
    "print(perm_importances_svm)"
   ]
  },
  {
   "cell_type": "markdown",
   "metadata": {},
   "source": [
    "## Conclusions\n",
    "- When comparing accuracy, the classifier models perform equivalently, if not better than, the dummy classifier\n",
    "- The duration benchmark does not perform well when focusing on the True Positives (F1 score)\n",
    "- Tested onehotencoder and mestimateencoder, mestimateencoder yields slightly better results and processes 3 times as fast\n",
    "- Based on F1 score, the decision tree model performs the best when trainining and testing F1 scores are taken into consideration\n",
    "- The most important feature for the decision tree model is the previous outcome, followed by the number of people employed, and finally the number of contacts during the current campaign\n",
    "- Average age is 40 years old"
   ]
  },
  {
   "cell_type": "markdown",
   "metadata": {},
   "source": [
    "# **README write-up**"
   ]
  },
  {
   "cell_type": "markdown",
   "metadata": {},
   "source": [
    "# **Github Repository**"
   ]
  }
 ],
 "metadata": {
  "kernelspec": {
   "display_name": ".venv",
   "language": "python",
   "name": "python3"
  },
  "language_info": {
   "codemirror_mode": {
    "name": "ipython",
    "version": 3
   },
   "file_extension": ".py",
   "mimetype": "text/x-python",
   "name": "python",
   "nbconvert_exporter": "python",
   "pygments_lexer": "ipython3",
   "version": "3.13.1"
  },
  "widgets": {
   "application/vnd.jupyter.widget-state+json": {
    "state": {},
    "version_major": 2,
    "version_minor": 0
   }
  }
 },
 "nbformat": 4,
 "nbformat_minor": 4
}
